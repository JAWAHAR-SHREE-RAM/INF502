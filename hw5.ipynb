{
  "cells": [
    {
      "cell_type": "markdown",
      "metadata": {
        "id": "view-in-github",
        "colab_type": "text"
      },
      "source": [
        "<a href=\"https://colab.research.google.com/github/JAWAHAR-SHREE-RAM/INF502/blob/main/hw5.ipynb\" target=\"_parent\"><img src=\"https://colab.research.google.com/assets/colab-badge.svg\" alt=\"Open In Colab\"/></a>"
      ]
    },
    {
      "cell_type": "markdown",
      "id": "32b55bfc",
      "metadata": {
        "id": "32b55bfc"
      },
      "source": [
        "This is the main function which has the function of GDF with four different values"
      ]
    },
    {
      "cell_type": "code",
      "execution_count": 23,
      "id": "50a9d700",
      "metadata": {
        "id": "50a9d700"
      },
      "outputs": [],
      "source": [
        "def main():\n",
        "   A = GDF(24, 64)\n",
        "   print(\"The GCD of 24 and 64 is\",A)\n",
        "   B = GDF(-7, 19)\n",
        "   print(\"The GCD of -7 and 19 is\",B)\n",
        "   C = GDF(189, 378)\n",
        "   print(\"The GCD of 189 and 378 is\",C)\n",
        "   D = GDF(0, 0)\n",
        "   print(\"The GCD of 0 and 0 is\",D)\n",
        "   E = GDF(85, 25)\n",
        "   print(\"The GCD of 85 and 25 is\",E)\n",
        "   F = GDF(0, 25)\n",
        "   print(\"The GCD of 0 and 25 is\",F)\n",
        "   G = GDF(7, 0)\n",
        "   print(\"The GCD of 7 and 0 is\",G)"
      ]
    },
    {
      "cell_type": "markdown",
      "id": "2bce85e7",
      "metadata": {
        "id": "2bce85e7"
      },
      "source": [
        "This function GDF is used to find the greatest common divisor of any two positive number"
      ]
    },
    {
      "cell_type": "code",
      "execution_count": 24,
      "id": "f84b7546",
      "metadata": {
        "id": "f84b7546"
      },
      "outputs": [],
      "source": [
        "def GDF(a, b):\n",
        "   if(a<0 or b<0):   #checking whether a or b is negative. Because GCD is only for positive numbers.\n",
        "      return (\"Invalid. Try with positve values\")\n",
        "   \n",
        "   elif(a==0 and b==0):\t#checking whether a and b both are zero. Because GCD(0,0) is undefined.\n",
        "      return (\"Undefined\")\n",
        "   try:\t\t\t#Exception for zerodivisionerror.\n",
        "      a%b\t#When a is integer and b is zero. Normally GCD has to return the integer. But here A%0 we get zerodivision error. \n",
        "   except ZeroDivisionError:\t#so with exceptional handling we return the A value which is integer.\n",
        "      return a\n",
        "   else:\t\t\n",
        "      if (a%b==0):\t\t#when a%b is 0. Then the GCD of a and b is b. So returning b.\n",
        "         return b\n",
        "      else:\n",
        "         return GDF(b,a%b)\t\t#This is the recursive call of the function."
      ]
    },
    {
      "cell_type": "markdown",
      "id": "6e8b2edc",
      "metadata": {
        "id": "6e8b2edc"
      },
      "source": [
        "Here we have the function call for main function."
      ]
    },
    {
      "cell_type": "code",
      "execution_count": 25,
      "id": "c0d16968",
      "metadata": {
        "colab": {
          "base_uri": "https://localhost:8080/"
        },
        "id": "c0d16968",
        "outputId": "9439e4e3-17ec-415b-af95-edc38a7f63ff"
      },
      "outputs": [
        {
          "output_type": "stream",
          "name": "stdout",
          "text": [
            "The GCD of 24 and 64 is 8\n",
            "The GCD of -7 and 19 is Invalid. Try with positve values\n",
            "The GCD of 189 and 378 is 189\n",
            "The GCD of 0 and 0 is Undefined\n",
            "The GCD of 85 and 25 is 5\n",
            "The GCD of 0 and 25 is 25\n",
            "The GCD of 7 and 0 is 7\n"
          ]
        }
      ],
      "source": [
        "main()"
      ]
    },
    {
      "cell_type": "markdown",
      "source": [
        "Description:\n",
        "\n",
        "1. At first I have two functions namely GDF() and main().\n",
        "2. In main function I had orgainised four function calls of GDF with diffrent set values each.\n",
        "3. After these two function Def I have a function call to the main function.\n",
        "4. Once the main function is called it executes the code in it. I have four different values to the function GDF.\n",
        "5. Inside the GDF Function:\n",
        "\n",
        "  1. At first when the function called with values GDF(24,64).\n",
        "  2. Recieving these values in function definition through the parameters a and b.\n",
        "  3. Now checking whether the values a and b are positive. If negative returning (\"A or B cannot be negative. Try with positve values\"). If positive then proceeding futher.\n",
        "  4. Now checking whether the values a and b are both zeros. If yes returning (\"Undefined\"). Because GCD of (0,0) is undefined. If not zeros proceeding futher.\n",
        "  5. We have a try with a%b. Which means if b in a%b is zero. This araises ZeroDivisionError. Next we have except ZeroDivivsionError: Here we return a.\n",
        "  6. else we have recursive call of the function GDF(b,a%b).\n",
        "    \n",
        "\n",
        "Example: \n",
        "\n",
        "1. At first main() call.\n",
        "2. In to the main function executing first sttatement A = GDF(24,64), Which is a function call.\n",
        "3. Now in the function definition of def GDF(a,b). Recieving the values 24 and 64 using a and b as parameters.\n",
        "4. (i - iteration)\n",
        "\n",
        "  i=1 (a=24,b=64)  \n",
        "      \n",
        "    Since the numbers a and b are not zero and negative it passes all the other conditions inside the function.\n",
        "\n",
        "   else:\n",
        "      if (a%b==0): // (24%64)!=0.\n",
        "         return b\n",
        "      else:   // so executes else statement.\n",
        "         return GDF(b,a%b) // recursive call.\n",
        "\n",
        "         GDF(64,24)\n",
        "\n",
        "  i=2 (a=64,b=24)      \n",
        "    \n",
        "  else:\n",
        "      if (a%b==0): // (64%24)!=0.\n",
        "         return b\n",
        "      else:   // so executes else statement.\n",
        "         return GDF(b,a%b) // recursive call.\n",
        "\n",
        "         GDF(24,16)\n",
        "\n",
        "  i=3 (a=24,b=16)      \n",
        "    \n",
        "  else:\n",
        "      if (a%b==0): // (24%16)!=0.\n",
        "         return b\n",
        "      else:   // so executes else statement.\n",
        "         return GDF(b,a%b) // recursive call.\n",
        "\n",
        "         GDF(16,8)\n",
        "\n",
        "  i=4 (a=16,b=8)      \n",
        "    \n",
        "  else:\n",
        "      if (a%b==0): // (16%8)==0.\n",
        "         return b  // return b=8 and goes to main()\n",
        "      else:   \n",
        "         return GDF(b,a%b) \n",
        "\n",
        "        \n",
        "\n",
        "\n",
        "    * Here 16%8== 0, So condition is true. Inside If statement we have a return statement of return b.\n",
        "    * value of b = 8.\n",
        "    * Now returning b to the function call in main function.\n",
        "    \n",
        "5. In main function.\n",
        "\n",
        "    * A = GDF(24,64), A = 8.\n",
        "    * printing the result, \"The GCD of 24 and 64 is 8\". "
      ],
      "metadata": {
        "id": "1HUT1SjgLzJT"
      },
      "id": "1HUT1SjgLzJT"
    },
    {
      "cell_type": "code",
      "execution_count": null,
      "id": "78befa54",
      "metadata": {
        "id": "78befa54"
      },
      "outputs": [],
      "source": []
    }
  ],
  "metadata": {
    "kernelspec": {
      "display_name": "Python 3 (ipykernel)",
      "language": "python",
      "name": "python3"
    },
    "language_info": {
      "codemirror_mode": {
        "name": "ipython",
        "version": 3
      },
      "file_extension": ".py",
      "mimetype": "text/x-python",
      "name": "python",
      "nbconvert_exporter": "python",
      "pygments_lexer": "ipython3",
      "version": "3.9.12"
    },
    "colab": {
      "provenance": [],
      "include_colab_link": true
    }
  },
  "nbformat": 4,
  "nbformat_minor": 5
}